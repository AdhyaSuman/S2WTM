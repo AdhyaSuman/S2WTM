{
 "cells": [
  {
   "cell_type": "markdown",
   "id": "0",
   "metadata": {},
   "source": [
    "# Set up"
   ]
  },
  {
   "cell_type": "code",
   "execution_count": null,
   "id": "1",
   "metadata": {},
   "outputs": [],
   "source": [
    "!pip install gitpython"
   ]
  },
  {
   "cell_type": "code",
   "execution_count": null,
   "id": "2",
   "metadata": {},
   "outputs": [],
   "source": [
    "import git\n",
    "\n",
    "from git import Repo\n",
    "\n",
    "git_url = 'https://github.com/AdhyaSuman/S2WTM'\n",
    "repo_dir = 'S2WTM_local'\n",
    "\n",
    "Repo.clone_from(git_url, repo_dir)"
   ]
  },
  {
   "cell_type": "code",
   "execution_count": null,
   "id": "3",
   "metadata": {},
   "outputs": [],
   "source": [
    "# Go to the home directory of the repo\n",
    "cd S2WTM_local"
   ]
  },
  {
   "cell_type": "code",
   "execution_count": null,
   "id": "4",
   "metadata": {},
   "outputs": [],
   "source": [
    "!pip install -e."
   ]
  },
  {
   "cell_type": "markdown",
   "id": "5",
   "metadata": {},
   "source": [
    "# Imports"
   ]
  },
  {
   "cell_type": "code",
   "execution_count": null,
   "id": "6",
   "metadata": {},
   "outputs": [],
   "source": [
    "cd .."
   ]
  },
  {
   "cell_type": "code",
   "execution_count": null,
   "id": "7",
   "metadata": {},
   "outputs": [],
   "source": [
    "from octis.dataset.dataset import Dataset\n",
    "\n",
    "#Import models:\n",
    "from octis.models.S2WTM import S2WTM\n",
    "\n",
    "#Import coherence metrics:\n",
    "from octis.evaluation_metrics.coherence_metrics import *\n",
    "\n",
    "#Import TD metrics:\n",
    "from octis.evaluation_metrics.diversity_metrics import *\n",
    "\n",
    "#Import classification metrics:\n",
    "from octis.evaluation_metrics.classification_metrics import *\n",
    "\n",
    "import random, torch"
   ]
  },
  {
   "cell_type": "markdown",
   "id": "8",
   "metadata": {},
   "source": [
    "# Utils"
   ]
  },
  {
   "cell_type": "code",
   "execution_count": null,
   "id": "9",
   "metadata": {},
   "outputs": [],
   "source": [
    "data_dir = './preprocessed_datasets'\n",
    "\n",
    "def get_dataset(dataset_name):\n",
    "    data = Dataset()\n",
    "    if dataset_name=='20NG':\n",
    "        data.fetch_dataset(\"20NewsGroup\")\n",
    "    \n",
    "    elif dataset_name=='BBC':\n",
    "        data.fetch_dataset(\"BBC_News\")\n",
    "    \n",
    "    elif dataset_name=='M10':\n",
    "        data.fetch_dataset(\"M10\")\n",
    "    \n",
    "    elif dataset_name=='SearchSnippets':\n",
    "        data.load_custom_dataset_from_folder(data_dir + \"/SearchSnippets\")\n",
    "    \n",
    "    elif dataset_name=='Pascal_Flickr':\n",
    "        data.load_custom_dataset_from_folder(data_dir + \"/Pascal_Flickr\")\n",
    "    \n",
    "    elif dataset_name=='Bio':\n",
    "        data.load_custom_dataset_from_folder(data_dir + \"/Bio\")\n",
    "        \n",
    "    elif dataset_name=='DBLP':\n",
    "        data.fetch_dataset(\"DBLP\")\n",
    "    \n",
    "    else:\n",
    "        raise Exception('Missing Dataset name...!!!')\n",
    "    return data"
   ]
  },
  {
   "cell_type": "markdown",
   "id": "10",
   "metadata": {},
   "source": [
    "# Run"
   ]
  },
  {
   "cell_type": "code",
   "execution_count": null,
   "id": "11",
   "metadata": {},
   "outputs": [],
   "source": [
    "import os\n",
    "from random import randint\n",
    "from IPython.display import clear_output\n",
    "\n",
    "seeds = [randint(0, 2e3) for _ in range(1)]\n",
    "\n",
    "datasets = ['20NG', 'BBC', 'M10', 'SearchSnippets', 'Pascal_Flickr', 'Bio', 'DBLP']\n",
    "\n",
    "results = {\n",
    "    'Dataset': [],\n",
    "    'K': [],\n",
    "    'Seed': [],\n",
    "    'NPMI': [],\n",
    "    'CV': []\n",
    "}\n",
    "\n",
    "partition = False\n",
    "validation = False\n",
    "\n",
    "for seed in seeds:\n",
    "    for d in datasets:\n",
    "        data = get_dataset(d)\n",
    "        k = len(set(data.get_labels()))\n",
    "\n",
    "        print('Results:-\\n', results)\n",
    "        print(\"-\"*100)\n",
    "        print('Dataset:{},\\t K={},\\t Seed={}'.format(d, k, seed))\n",
    "        print(\"-\"*100)\n",
    "\n",
    "        random.seed(seed)\n",
    "        torch.random.manual_seed(seed)\n",
    "\n",
    "        model = S2WTM(\n",
    "        num_topics=len(set(data.get_labels())),\n",
    "        use_partitions=partition,\n",
    "        use_validation=validation,\n",
    "        num_epochs=100,\n",
    "        )\n",
    "\n",
    "        output = model.train_model(dataset=data)\n",
    "\n",
    "        del model\n",
    "        torch.cuda.empty_cache()\n",
    "\n",
    "        #Hyperparams:\n",
    "        results['Dataset'].append(d)\n",
    "        results['K'].append(k)\n",
    "        results['Seed'].append(seed)\n",
    "        #############\n",
    "        #Coherence Scores:\n",
    "        npmi = Coherence(texts=data.get_corpus(), topk=10, measure='c_npmi')\n",
    "        results['NPMI'].append(npmi.score(output))\n",
    "        del npmi\n",
    "\n",
    "        cv = Coherence(texts=data.get_corpus(), topk=10, measure='c_v')\n",
    "        results['CV'].append(cv.score(output))\n",
    "        del cv\n",
    "\n",
    "        clear_output(wait=False)\n",
    "results                              "
   ]
  },
  {
   "cell_type": "code",
   "execution_count": null,
   "id": "12",
   "metadata": {},
   "outputs": [],
   "source": []
  }
 ],
 "metadata": {
  "kernelspec": {
   "display_name": "Python 3 (ipykernel)",
   "language": "python",
   "name": "python3"
  },
  "language_info": {
   "codemirror_mode": {
    "name": "ipython",
    "version": 3
   },
   "file_extension": ".py",
   "mimetype": "text/x-python",
   "name": "python",
   "nbconvert_exporter": "python",
   "pygments_lexer": "ipython3",
   "version": "3.9.7"
  },
  "toc": {
   "base_numbering": 1,
   "nav_menu": {},
   "number_sections": true,
   "sideBar": true,
   "skip_h1_title": false,
   "title_cell": "Table of Contents",
   "title_sidebar": "Contents",
   "toc_cell": false,
   "toc_position": {},
   "toc_section_display": true,
   "toc_window_display": false
  }
 },
 "nbformat": 4,
 "nbformat_minor": 5
}
